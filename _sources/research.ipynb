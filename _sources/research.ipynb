{
 "cells": [
  {
   "cell_type": "markdown",
   "id": "83a12437",
   "metadata": {},
   "source": [
    "# Research services\n"
   ]
  },
  {
   "cell_type": "markdown",
   "id": "79b9b189",
   "metadata": {},
   "source": [
    "# Thematic coding service\n",
    "\n",
    "## Usage of Service\n",
    "Use this service to get feedback to text according to either Level 6 or Level 7, and add any additional requirements to the feedback\n"
   ]
  },
  {
   "cell_type": "code",
   "execution_count": null,
   "id": "43e1883e",
   "metadata": {},
   "outputs": [],
   "source": [
    "import requests\n",
    "\n",
    "# Define the URL of the web service\n",
    "url = \"http://13.40.150.219:7778/feedbackservice\"\n",
    "\n",
    "# Define the text variable to be posted\n",
    "prompttext = input (\"paste text for feedback\")\n",
    "\n",
    "level = input (\"Type level of feedback:\\n6. Level 6\\n7. Level 7\\n\")\n",
    "level = \"Level \" + str (level)\n",
    "    \n",
    "criteria = input (\"Enter any assessment criteria you wish to focus on:\\n\")\n",
    "\n",
    "# Define the data payload to be sent\n",
    "data = {\n",
    "    \"submittedtext\": prompttext,\n",
    "    \"criteria\": criteria,\n",
    "    \"level\": level\n",
    "}\n",
    "\n",
    "# Send the POST request to the web service\n",
    "response = requests.post(url, data=data)\n",
    "\n",
    "# Check if the request was successful (status code 200)\n",
    "if response.status_code == 200:\n",
    "    print (\"\\n\\n\",response.json()[\"response\"])\n",
    "else:\n",
    "    print(\"Failed to post text. Status code:\", response.status_code)\n"
   ]
  },
  {
   "cell_type": "markdown",
   "id": "1db30319",
   "metadata": {},
   "source": [
    "# Word frequency service\n",
    "\n",
    "## Usage of Service\n",
    "Use this service to rewite a text according to either Level 6 or Level 7, and add any additional requirements for the rewritten text\n"
   ]
  },
  {
   "cell_type": "code",
   "execution_count": null,
   "id": "3165bd7e",
   "metadata": {},
   "outputs": [],
   "source": [
    "import requests\n",
    "\n",
    "# Define the URL of the web service\n",
    "url = \"http://13.40.150.219:7778/rewriteservice\"\n",
    "\n",
    "# Define the text variable to be posted\n",
    "prompttext = input (\"paste text for feedback\")\n",
    "\n",
    "level = input (\"Type level of feedback:\\n6. Level 6\\n7. Level 7\\n\")\n",
    "level = \"Level \" + str (level)\n",
    "\n",
    "criteria = input (\"Enter any assessment criteria you wish to focus on:\\n\")\n",
    "\n",
    "# Define the data payload to be sent\n",
    "data = {\n",
    "    \"submittedtext\": prompttext,\n",
    "    \"criteria\": criteria,\n",
    "    \"level\": level\n",
    "}\n",
    "\n",
    "# Send the POST request to the web service\n",
    "response = requests.post(url, data=data)\n",
    "\n",
    "# Check if the request was successful (status code 200)\n",
    "if response.status_code == 200:\n",
    "    print (\"\\n\\n\",response.json()[\"response\"])\n",
    "else:\n",
    "    print(\"Failed to post text. Status code:\", response.status_code)"
   ]
  },
  {
   "cell_type": "markdown",
   "id": "ee176877",
   "metadata": {},
   "source": [
    "# Image generation service\n",
    "\n",
    "## Use of service\n",
    "\n",
    "Use this service to create an AI expert in a particular field with which you can talk "
   ]
  },
  {
   "cell_type": "code",
   "execution_count": null,
   "id": "159f239e",
   "metadata": {},
   "outputs": [],
   "source": [
    "import requests\n",
    "\n",
    "# Define the URL of the web service\n",
    "url = \"http://13.40.150.219:7778/rewriteservice\"\n",
    "\n",
    "# Define the text variable to be posted\n",
    "prompttext = input (\"paste text for feedback\")\n",
    "\n",
    "level = input (\"Type level of feedback:\\n6. Level 6\\n7. Level 7\\n\")\n",
    "level = \"Level \" + str (level)\n",
    "\n",
    "criteria = input (\"Enter any assessment criteria you wish to focus on:\\n\")\n",
    "\n",
    "# Define the data payload to be sent\n",
    "data = {\n",
    "    \"submittedtext\": prompttext,\n",
    "    \"criteria\": criteria,\n",
    "    \"level\": level\n",
    "}\n",
    "\n",
    "# Send the POST request to the web service\n",
    "response = requests.post(url, data=data)\n",
    "\n",
    "# Check if the request was successful (status code 200)\n",
    "if response.status_code == 200:\n",
    "    print (\"\\n\\n\",response.json()[\"response\"])\n",
    "else:\n",
    "    print(\"Failed to post text. Status code:\", response.status_code)"
   ]
  },
  {
   "cell_type": "markdown",
   "id": "501c1ac3",
   "metadata": {},
   "source": [
    "# Image description service\n",
    "\n",
    "## Use of service"
   ]
  },
  {
   "cell_type": "markdown",
   "id": "f4ed0381",
   "metadata": {},
   "source": [
    "# Synthetic scenario data service"
   ]
  }
 ],
 "metadata": {
  "kernelspec": {
   "display_name": "Python 3 (ipykernel)",
   "language": "python",
   "name": "python3"
  },
  "language_info": {
   "codemirror_mode": {
    "name": "ipython",
    "version": 3
   },
   "file_extension": ".py",
   "mimetype": "text/x-python",
   "name": "python",
   "nbconvert_exporter": "python",
   "pygments_lexer": "ipython3",
   "version": "3.11.4"
  }
 },
 "nbformat": 4,
 "nbformat_minor": 5
}
